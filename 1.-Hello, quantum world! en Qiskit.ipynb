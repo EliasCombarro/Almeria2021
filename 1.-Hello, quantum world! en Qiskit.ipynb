{
 "cells": [
  {
   "cell_type": "markdown",
   "metadata": {},
   "source": [
    "# PRIMEROS PASOS EN QISKIT\n",
    "\n",
    "En este notebbok vamos a aprender a usar Qiskit para definir un circuito sencillo y ejecutarlo tanto en simuladores como en los ordenadores cuánticos de la IBM Quantum Experience. \n",
    "\n",
    "Comenzamos importando los paquetes necesarios."
   ]
  },
  {
   "cell_type": "code",
   "execution_count": null,
   "metadata": {},
   "outputs": [],
   "source": [
    "%matplotlib inline\n",
    "\n",
    "from qiskit import *\n",
    "from qiskit.visualization import *\n",
    "from qiskit.tools.monitor import *"
   ]
  },
  {
   "cell_type": "markdown",
   "metadata": {},
   "source": [
    "## Definiendo el circuito\n",
    "\n",
    "Ahora, vamos a definir un circuito muy sencillo: usaremos una puerta $H$ para poner un qubit en un estado de superposición y, a continuación, lo mediremos"
   ]
  },
  {
   "cell_type": "code",
   "execution_count": null,
   "metadata": {},
   "outputs": [],
   "source": [
    "#Vamos a hacer un circuito para crear un estado de superposición y medirlo\n",
    "\n",
    "circ = QuantumCircuit(1,1) # Usaremos un qubit y un bit clásico para medir el resultado\n",
    "\n",
    "circ.h(0) #Aplicamos la puerta H al qubit\n",
    "\n",
    "circ.measure(range(1),range(1)) # Medimos\n",
    "\n",
    "circ.draw(output='mpl') #Dibujamos el circuito"
   ]
  },
  {
   "cell_type": "markdown",
   "metadata": {},
   "source": [
    "También podemos obtener, fácilmente, el código *qasm* correspondiente."
   ]
  },
  {
   "cell_type": "code",
   "execution_count": null,
   "metadata": {},
   "outputs": [],
   "source": [
    "print(circ.qasm())"
   ]
  },
  {
   "cell_type": "markdown",
   "metadata": {},
   "source": [
    "## Ejecutando en distintos simuladores locales\n",
    "\n",
    "Una vez definido el circuito, podemos ejecutarlo en un simulador de forma local. "
   ]
  },
  {
   "cell_type": "code",
   "execution_count": null,
   "metadata": {},
   "outputs": [],
   "source": [
    "# Ejecución en el simulador local\n",
    "\n",
    "backend = Aer.get_backend('aer_simulator') # Elegimos el backend para ejecutar\n",
    "\n",
    "job = execute(circ, backend, shots=1024) # Ejecutamos, seleccionando el número de repeticiones\n",
    "\n",
    "result = job.result() # Recogemos los resultados\n",
    "\n",
    "counts = result.get_counts(circ) # Obtenemos las frecuencias de cada resultado y las mostramos\n",
    "print(counts) \n",
    "plot_histogram(counts)"
   ]
  },
  {
   "cell_type": "markdown",
   "metadata": {},
   "source": [
    "También podemos realizar una simulación en la que obtenemos el vector de estado final. Para ello, definimos un nuevo circuito con una puerta $H$ pero sin la medida y con una instrucción para guardar el vector de estado"
   ]
  },
  {
   "cell_type": "code",
   "execution_count": null,
   "metadata": {},
   "outputs": [],
   "source": [
    "#Ejecución para obtener el vector de estado\n",
    "\n",
    "circ2 = QuantumCircuit(1,1)\n",
    "\n",
    "circ2.h(0)\n",
    "circ2.save_statevector()\n",
    "\n",
    "job = execute(circ2, backend) # Ejecutamos\n",
    "\n",
    "result = job.result() #Recogemos los resultados y recuperamos el vector de estado\n",
    "outputstate = result.get_statevector(decimals=3)\n",
    "print(outputstate)"
   ]
  },
  {
   "cell_type": "markdown",
   "metadata": {},
   "source": [
    "Finalmente, también podemos obtener la matriz unitaria que representa la evolución del estado en el circuito. "
   ]
  },
  {
   "cell_type": "code",
   "execution_count": null,
   "metadata": {},
   "outputs": [],
   "source": [
    "circ3 = QuantumCircuit(1,1)\n",
    "\n",
    "circ3.h(0)\n",
    "circ3.save_unitary()\n",
    "\n",
    "job = execute(circ3, backend) # Ejecutamos\n",
    "\n",
    "result = job.result() #Recogemos los resultados y recuperamos la matriz unitaria\n",
    "unitary = result.get_unitary(decimals = 3)\n",
    "print(unitary)"
   ]
  },
  {
   "cell_type": "markdown",
   "metadata": {},
   "source": [
    "Ahora vamos a conectar con los ordenadores de la IBM Quantum Experience para poder lanzar nuestros trabajos en ellos."
   ]
  },
  {
   "cell_type": "code",
   "execution_count": null,
   "metadata": {},
   "outputs": [],
   "source": [
    "# Conectando con los ordenadores cuánticos reales\n",
    "\n",
    "provider = IBMQ.load_account() # Cargamos la cuenta \n",
    "provider.backends() # Recuperamos los backends disponibles y comprobamos su estado\n",
    "\n",
    "for b in provider.backends():\n",
    "    print(b.status().backend_name, \"tiene\", b.status().pending_jobs, \n",
    "          \"trabajos pendientes. Status:\",b.status().status_msg)"
   ]
  },
  {
   "cell_type": "markdown",
   "metadata": {},
   "source": [
    "Podemos ejecutar en el simulador que nos ofrece la IBM Quantum Experience (hasta 32 qubits). Sólo hace falta cambiar el backend y ejecutar como habíamos hecho antes."
   ]
  },
  {
   "cell_type": "code",
   "execution_count": null,
   "metadata": {},
   "outputs": [],
   "source": [
    "# Ejecución en el simulador de la IBM Q Experience\n",
    "\n",
    "backend_sim = provider.get_backend('ibmq_qasm_simulator') # Elegimos el backend para ejecutar\n",
    "\n",
    "job_sim = execute(circ, backend_sim, shots=1024) # Ejecutamos, seleccionando el número de repeticiones\n",
    "\n",
    "result_sim = job_sim.result() # Recogemos los resultados\n",
    "\n",
    "counts = result_sim.get_counts(circ) # Obtenemos las frecuencias de cada resultado y las mostramos\n",
    "print(counts) \n",
    "plot_histogram(counts)"
   ]
  },
  {
   "cell_type": "markdown",
   "metadata": {},
   "source": [
    "Para ejecutar en un ordenador cuántico real, sólo es necesario cambiar el backend. Usaremos *job_monitor* para observar el progreso del trabajo lanzado."
   ]
  },
  {
   "cell_type": "code",
   "execution_count": null,
   "metadata": {},
   "outputs": [],
   "source": [
    "# Ejecutando en el ordenador cuántico\n",
    "\n",
    "backend = provider.get_backend('ibmq_armonk')\n",
    "\n",
    "job_exp = execute(circ, backend=backend)\n",
    "job_monitor(job_exp)"
   ]
  },
  {
   "cell_type": "markdown",
   "metadata": {},
   "source": [
    "Una vez finalizado el trabajo, podemos recoger los resultados y mostrarlos, comparándolos con los obtenidos en el simulador."
   ]
  },
  {
   "cell_type": "code",
   "execution_count": null,
   "metadata": {},
   "outputs": [],
   "source": [
    "result_exp = job_exp.result()\n",
    "counts_exp = result_exp.get_counts(circ)\n",
    "plot_histogram([counts_exp,counts], legend=['Device', 'Simulator'])"
   ]
  }
 ],
 "metadata": {
  "kernelspec": {
   "display_name": "Python 3",
   "language": "python",
   "name": "python3"
  },
  "language_info": {
   "codemirror_mode": {
    "name": "ipython",
    "version": 3
   },
   "file_extension": ".py",
   "mimetype": "text/x-python",
   "name": "python",
   "nbconvert_exporter": "python",
   "pygments_lexer": "ipython3",
   "version": "3.8.8"
  },
  "widgets": {
   "application/vnd.jupyter.widget-state+json": {
    "state": {},
    "version_major": 2,
    "version_minor": 0
   }
  }
 },
 "nbformat": 4,
 "nbformat_minor": 4
}
