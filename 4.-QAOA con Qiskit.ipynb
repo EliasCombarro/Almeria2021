{
 "cells": [
  {
   "cell_type": "markdown",
   "metadata": {},
   "source": [
    "# QAOA CON QISKIT"
   ]
  },
  {
   "cell_type": "markdown",
   "metadata": {},
   "source": [
    "En este notebook, aprenderemos a utilizar las funcionalidades de Qsikit para manejar problemas de optimización y resolverlos con ayuda del algoritmo QAOA"
   ]
  },
  {
   "cell_type": "markdown",
   "metadata": {},
   "source": [
    "Comenzamos importando los paquetes que vamos a utilizar"
   ]
  },
  {
   "cell_type": "code",
   "execution_count": null,
   "metadata": {},
   "outputs": [],
   "source": [
    "from qiskit_optimization.problems import QuadraticProgram\n",
    "from qiskit_optimization.converters import QuadraticProgramToQubo\n",
    "from qiskit_optimization.converters import InequalityToEquality\n",
    "from qiskit_optimization.converters import IntegerToBinary\n",
    "from qiskit_optimization.converters import LinearEqualityToPenalty\n",
    "from qiskit_optimization.algorithms import MinimumEigenOptimizer\n",
    "from qiskit.algorithms.optimizers import COBYLA\n",
    "\n",
    "from qiskit import Aer\n",
    "from qiskit.algorithms import QAOA, NumPyMinimumEigensolver\n",
    "from qiskit.quantum_info import Pauli\n",
    "from qiskit.opflow.primitive_ops import PauliOp\n",
    "from qiskit.opflow.list_ops import SummedOp\n",
    "from qiskit.opflow import I, X, Y, Z"
   ]
  },
  {
   "cell_type": "markdown",
   "metadata": {},
   "source": [
    "## Creando el hamiltoniano directamente"
   ]
  },
  {
   "cell_type": "markdown",
   "metadata": {},
   "source": [
    "Podemos resolver problemas en Qiskit con QAOA a partir de un hamiltoniano del que ya dispongamos o que creemos explícitamente. Como ejemplo, vamos a crear un hamiltoniano sencillo y encontrar su estado de mínima energía con QAOA"
   ]
  },
  {
   "cell_type": "code",
   "execution_count": null,
   "metadata": {},
   "outputs": [],
   "source": [
    "op = PauliOp(Pauli(\"ZZ\")) # Equivale a Pauli(([1,1],[0,0])). \n",
    "                          # El primer array indica posiciones de las Zs y el segundo, de las Xs\n",
    "print(\"El hamiltoniano es\",op)\n",
    "\n",
    "qaoa = QAOA(optimizer = COBYLA(), quantum_instance=Aer.get_backend('aer_simulator'), reps = 1)  \n",
    "result = qaoa.compute_minimum_eigenvalue(op)\n",
    "print(result)"
   ]
  },
  {
   "cell_type": "markdown",
   "metadata": {},
   "source": [
    "Ahora, probamos con un problema más complicado"
   ]
  },
  {
   "cell_type": "code",
   "execution_count": null,
   "metadata": {},
   "outputs": [],
   "source": [
    "op = -PauliOp(Pauli(\"ZZ\")) -0.5*PauliOp(Pauli(\"ZI\")) - PauliOp(Pauli(\"IZ\"))\n",
    "# Otra forma de hacer lo mismo op = SummedOp([PauliOp(Pauli(\"ZZ\"),-1),PauliOp(Pauli(\"ZI\"),-0.5),PauliOp(Pauli(\"IZ\"),-1)])\n",
    "print(\"El hamiltoniano es\",op)\n",
    "result = qaoa.compute_minimum_eigenvalue(op)\n",
    "print(result)"
   ]
  },
  {
   "cell_type": "markdown",
   "metadata": {},
   "source": [
    "Probamos aumentando el valor de $p$"
   ]
  },
  {
   "cell_type": "code",
   "execution_count": null,
   "metadata": {},
   "outputs": [],
   "source": [
    "qaoa = QAOA(optimizer = COBYLA(), quantum_instance=Aer.get_backend('aer_simulator'), reps = 2)  \n",
    "result = qaoa.compute_minimum_eigenvalue(op)\n",
    "print(result)"
   ]
  },
  {
   "cell_type": "markdown",
   "metadata": {},
   "source": [
    "Probemos con un problema con más qubits"
   ]
  },
  {
   "cell_type": "code",
   "execution_count": null,
   "metadata": {},
   "outputs": [],
   "source": [
    "# Corresponde al problema de D-Wave con J = {(0,1):1,(0,2):1,(1,2):1,(1,3):1,(2,4):1,(3,4):1}\n",
    "\n",
    "op = (Z^Z^I^I^I) + (Z^I^Z^I^I) + (I^Z^Z^I^I) + (I^Z^I^Z^I) + (I^I^Z^I^Z) + (I^I^I^Z^Z) # ¡Paréntesis necesarios!\n",
    "print(\"El hamiltoniano es\", op)\n",
    "qaoa = QAOA(optimizer = COBYLA(), quantum_instance=Aer.get_backend('aer_simulator'), reps = 1)  \n",
    "result = qaoa.compute_minimum_eigenvalue(op)\n",
    "print(result)"
   ]
  },
  {
   "cell_type": "markdown",
   "metadata": {},
   "source": [
    "## Trabajando con problemas cuadráticos"
   ]
  },
  {
   "cell_type": "markdown",
   "metadata": {},
   "source": [
    "Qiskit proporciona herramientas para definir problemas cuadráticos y convertirlos en hamiltonianos que podemos usar con QAOA. También define clases que podemos usar para resolver estos problemas de forma transparente. Veamos cómo funcionan. "
   ]
  },
  {
   "cell_type": "markdown",
   "metadata": {},
   "source": [
    "Definimos un problema cuadrático con restricciones"
   ]
  },
  {
   "cell_type": "code",
   "execution_count": null,
   "metadata": {},
   "outputs": [],
   "source": [
    "qp = QuadraticProgram()\n",
    "qp.binary_var('x')\n",
    "qp.binary_var('y')\n",
    "qp.binary_var('z')\n",
    "\n",
    "# Añadimos el objetivo\n",
    "\n",
    "qp.minimize(linear = {'y':-1}, quadratic = {('x','y'):2, ('z','y'):-4})\n",
    "\n",
    "# Añadimos una restricción lineal\n",
    "\n",
    "qp.linear_constraint(linear = {'x':1, 'y':2, 'z':3}, sense =\"<=\", rhs = 5)\n",
    "\n",
    "print(qp)"
   ]
  },
  {
   "cell_type": "markdown",
   "metadata": {},
   "source": [
    "Ahora, podemos resolver este problema de forma exacta"
   ]
  },
  {
   "cell_type": "code",
   "execution_count": null,
   "metadata": {},
   "outputs": [],
   "source": [
    "np_solver = NumPyMinimumEigensolver()\n",
    "np_optimizer = MinimumEigenOptimizer(np_solver)\n",
    "result = np_optimizer.solve(qp)\n",
    "print(result)"
   ]
  },
  {
   "cell_type": "markdown",
   "metadata": {},
   "source": [
    "Podemos resolver el problema también con QAOA"
   ]
  },
  {
   "cell_type": "code",
   "execution_count": null,
   "metadata": {},
   "outputs": [],
   "source": [
    "qaoa_optimizer = MinimumEigenOptimizer(qaoa)\n",
    "result = qaoa_optimizer.solve(qp)\n",
    "print(result)"
   ]
  },
  {
   "cell_type": "markdown",
   "metadata": {},
   "source": [
    "Para obtener más información sobre los resultados:"
   ]
  },
  {
   "cell_type": "code",
   "execution_count": null,
   "metadata": {},
   "outputs": [],
   "source": [
    "print('Orden de las variables:', [var.name for var in result.variables])\n",
    "for s in result.samples:\n",
    "    print(s)"
   ]
  },
  {
   "cell_type": "markdown",
   "metadata": {},
   "source": [
    "Y para obtener la misma información que con el QAOA:"
   ]
  },
  {
   "cell_type": "code",
   "execution_count": null,
   "metadata": {},
   "outputs": [],
   "source": [
    "print(result.min_eigen_solver_result)"
   ]
  },
  {
   "cell_type": "markdown",
   "metadata": {},
   "source": [
    "# El proceso en más detalle"
   ]
  },
  {
   "cell_type": "markdown",
   "metadata": {},
   "source": [
    "La conversión que se hace internamente sigue varios pasos. El primero es convertir las restricciones de desiguladades en restricciones de igualdad"
   ]
  },
  {
   "cell_type": "code",
   "execution_count": null,
   "metadata": {},
   "outputs": [],
   "source": [
    "ineq_to_eq = InequalityToEquality()\n",
    "qp_eq = ineq_to_eq.convert(qp)\n",
    "print(qp_eq)"
   ]
  },
  {
   "cell_type": "markdown",
   "metadata": {},
   "source": [
    "A continuación, se convierten las variables enteras en binarias."
   ]
  },
  {
   "cell_type": "code",
   "execution_count": null,
   "metadata": {},
   "outputs": [],
   "source": [
    "int_to_bin = IntegerToBinary()\n",
    "qp_bin = int_to_bin.convert(qp_eq)\n",
    "print(qp_bin)"
   ]
  },
  {
   "cell_type": "markdown",
   "metadata": {},
   "source": [
    "Ahora, se convierten las restricciones en penalizaciones en el objetivo"
   ]
  },
  {
   "cell_type": "code",
   "execution_count": null,
   "metadata": {},
   "outputs": [],
   "source": [
    "eq_to_pen = LinearEqualityToPenalty()\n",
    "qubo = eq_to_pen.convert(qp_bin)\n",
    "print(qubo)"
   ]
  },
  {
   "cell_type": "markdown",
   "metadata": {},
   "source": [
    "Podríamos hacer lo mismo en un solo paso"
   ]
  },
  {
   "cell_type": "code",
   "execution_count": null,
   "metadata": {},
   "outputs": [],
   "source": [
    "qp_to_qubo = QuadraticProgramToQubo()\n",
    "qubo2 = qp_to_qubo.convert(qp)\n",
    "print(qubo2)"
   ]
  },
  {
   "cell_type": "markdown",
   "metadata": {},
   "source": [
    "Finalmente, podemos recuperar el hamiltoniano correspondiente al problema"
   ]
  },
  {
   "cell_type": "code",
   "execution_count": null,
   "metadata": {},
   "outputs": [],
   "source": [
    "op, offset = qubo.to_ising()\n",
    "print(\"El hamiltoniano es\", op)\n",
    "print(\"Y la constante es\", offset)"
   ]
  },
  {
   "cell_type": "markdown",
   "metadata": {},
   "source": [
    "Y usar QAOA directamente sobre este operador"
   ]
  },
  {
   "cell_type": "code",
   "execution_count": null,
   "metadata": {},
   "outputs": [],
   "source": [
    "result = qaoa.compute_minimum_eigenvalue(op)\n",
    "print(result)"
   ]
  }
 ],
 "metadata": {
  "kernelspec": {
   "display_name": "Python 3",
   "language": "python",
   "name": "python3"
  },
  "language_info": {
   "codemirror_mode": {
    "name": "ipython",
    "version": 3
   },
   "file_extension": ".py",
   "mimetype": "text/x-python",
   "name": "python",
   "nbconvert_exporter": "python",
   "pygments_lexer": "ipython3",
   "version": "3.8.8"
  }
 },
 "nbformat": 4,
 "nbformat_minor": 4
}
