{
 "cells": [
  {
   "cell_type": "markdown",
   "metadata": {},
   "source": [
    "# QAOA CON QISKIT"
   ]
  },
  {
   "cell_type": "markdown",
   "metadata": {},
   "source": [
    "En este notebook, aprenderemos a utilizar las funcionalidades de Qsikit para manejar problemas de optimización y resolverlos con ayuda del algoritmo QAOA"
   ]
  },
  {
   "cell_type": "markdown",
   "metadata": {},
   "source": [
    "Comenzamos importando los paquetes que vamos a utilizar"
   ]
  },
  {
   "cell_type": "code",
   "execution_count": 1,
   "metadata": {},
   "outputs": [],
   "source": [
    "from qiskit_optimization.problems import QuadraticProgram\n",
    "from qiskit_optimization.converters import QuadraticProgramToQubo\n",
    "from qiskit_optimization.converters import InequalityToEquality\n",
    "from qiskit_optimization.converters import IntegerToBinary\n",
    "from qiskit_optimization.converters import LinearEqualityToPenalty\n",
    "from qiskit_optimization.algorithms import MinimumEigenOptimizer\n",
    "from qiskit.algorithms.optimizers import COBYLA\n",
    "\n",
    "from qiskit import Aer\n",
    "from qiskit.algorithms import QAOA, NumPyMinimumEigensolver\n",
    "from qiskit.quantum_info import Pauli\n",
    "from qiskit.opflow.primitive_ops import PauliOp\n",
    "from qiskit.opflow.list_ops import SummedOp\n",
    "from qiskit.opflow import I, X, Y, Z"
   ]
  },
  {
   "cell_type": "markdown",
   "metadata": {},
   "source": [
    "## Creando el hamiltoniano directamente"
   ]
  },
  {
   "cell_type": "markdown",
   "metadata": {},
   "source": [
    "Podemos resolver problemas en Qiskit con QAOA a partir de un hamiltoniano del que ya dispongamos o que creemos explícitamente. Como ejemplo, vamos a crear un hamiltoniano sencillo y encontrar su estado de mínima energía con QAOA. Primero, construímos el hamiltoniano, inicializamos el QAOA y dibujamos el circuito."
   ]
  },
  {
   "cell_type": "code",
   "execution_count": 2,
   "metadata": {},
   "outputs": [
    {
     "name": "stdout",
     "output_type": "stream",
     "text": [
      "El hamiltoniano es ZZ\n"
     ]
    },
    {
     "data": {
      "image/png": "[encoded data removed]",
      "text/plain": [
       "<Figure size 387.452x144.48 with 1 Axes>"
      ]
     },
     "execution_count": 2,
     "metadata": {},
     "output_type": "execute_result"
    }
   ],
   "source": [
    "op = PauliOp(Pauli(\"ZZ\")) # Equivale a Pauli(([1,1],[0,0])). \n",
    "                          # El primer array indica posiciones de las Zs y el segundo, de las Xs\n",
    "print(\"El hamiltoniano es\",op)\n",
    "\n",
    "qaoa = QAOA(optimizer = COBYLA(), quantum_instance=Aer.get_backend('aer_simulator'), reps = 1)  \n",
    "qaoa.construct_circuit([0,0],op)[0].draw(output=\"mpl\")"
   ]
  },
  {
   "cell_type": "markdown",
   "metadata": {},
   "source": [
    "Ahora, usamos el algoritmo para buscar un estado de mínima energía"
   ]
  },
  {
   "cell_type": "code",
   "execution_count": 3,
   "metadata": {},
   "outputs": [
    {
     "name": "stdout",
     "output_type": "stream",
     "text": [
      "{   'aux_operator_eigenvalues': None,\n",
      "    'cost_function_evals': 24,\n",
      "    'eigenstate': {   '01': 0.7008644216251814,\n",
      "                      '10': 0.7126096406869612,\n",
      "                      '11': 0.03125},\n",
      "    'eigenvalue': (-0.998046875+0j),\n",
      "    'optimal_parameters': {   ParameterVectorElement(t[0]): 7.08583921342735,\n",
      "                              ParameterVectorElement(t[1]): -0.3932572517985048},\n",
      "    'optimal_point': array([ 7.08583921, -0.39325725]),\n",
      "    'optimal_value': -0.998046875,\n",
      "    'optimizer_evals': None,\n",
      "    'optimizer_time': 0.10390806198120117}\n"
     ]
    }
   ],
   "source": [
    "result = qaoa.compute_minimum_eigenvalue(op)\n",
    "print(result)"
   ]
  },
  {
   "cell_type": "markdown",
   "metadata": {},
   "source": [
    "Ahora, probamos con un problema más complicado"
   ]
  },
  {
   "cell_type": "code",
   "execution_count": 4,
   "metadata": {},
   "outputs": [
    {
     "name": "stdout",
     "output_type": "stream",
     "text": [
      "El hamiltoniano es -1.0 * ZZ\n",
      "- 0.5 * ZI\n",
      "- 1.0 * IZ\n"
     ]
    },
    {
     "data": {
      "image/png": "[encoded data removed]",
      "text/plain": [
       "<Figure size 447.652x144.48 with 1 Axes>"
      ]
     },
     "execution_count": 4,
     "metadata": {},
     "output_type": "execute_result"
    }
   ],
   "source": [
    "op = -PauliOp(Pauli(\"ZZ\")) -0.5*PauliOp(Pauli(\"ZI\")) - PauliOp(Pauli(\"IZ\"))\n",
    "# Otra forma de hacer lo mismo op = SummedOp([PauliOp(Pauli(\"ZZ\"),-1),PauliOp(Pauli(\"ZI\"),-0.5),PauliOp(Pauli(\"IZ\"),-1)])\n",
    "print(\"El hamiltoniano es\",op)\n",
    "qaoa = QAOA(optimizer = COBYLA(), quantum_instance=Aer.get_backend('aer_simulator'), reps = 1)  \n",
    "qaoa.construct_circuit([0,0],op)[0].draw(output=\"mpl\")"
   ]
  },
  {
   "cell_type": "code",
   "execution_count": 5,
   "metadata": {},
   "outputs": [
    {
     "name": "stdout",
     "output_type": "stream",
     "text": [
      "{   'aux_operator_eigenvalues': None,\n",
      "    'cost_function_evals': 33,\n",
      "    'eigenstate': {   '00': 0.8297448779594846,\n",
      "                      '01': 0.32775276505317236,\n",
      "                      '10': 0.21875,\n",
      "                      '11': 0.39528470752104744},\n",
      "    'eigenvalue': (-1.4863281250000002+0j),\n",
      "    'optimal_parameters': {   ParameterVectorElement(t[0]): 5.147871450830544,\n",
      "                              ParameterVectorElement(t[1]): -3.897443557179072},\n",
      "    'optimal_point': array([ 5.14787145, -3.89744356]),\n",
      "    'optimal_value': -1.4863281250000002,\n",
      "    'optimizer_evals': None,\n",
      "    'optimizer_time': 0.1222829818725586}\n"
     ]
    }
   ],
   "source": [
    "result = qaoa.compute_minimum_eigenvalue(op)\n",
    "print(result)"
   ]
  },
  {
   "cell_type": "markdown",
   "metadata": {},
   "source": [
    "Probamos aumentando el valor de $p$"
   ]
  },
  {
   "cell_type": "code",
   "execution_count": 6,
   "metadata": {},
   "outputs": [
    {
     "data": {
      "image/png": "[encoded data removed]",
      "text/plain": [
       "<Figure size 748.652x144.48 with 1 Axes>"
      ]
     },
     "execution_count": 6,
     "metadata": {},
     "output_type": "execute_result"
    }
   ],
   "source": [
    "qaoa = QAOA(optimizer = COBYLA(), quantum_instance=Aer.get_backend('aer_simulator'), reps = 2)  \n",
    "qaoa.construct_circuit([0,0,0,0],op)[0].draw(output=\"mpl\")"
   ]
  },
  {
   "cell_type": "code",
   "execution_count": 7,
   "metadata": {},
   "outputs": [
    {
     "name": "stdout",
     "output_type": "stream",
     "text": [
      "{   'aux_operator_eigenvalues': None,\n",
      "    'cost_function_evals': 52,\n",
      "    'eigenstate': {   '00': 0.9291292967074066,\n",
      "                      '01': 0.16237976320958225,\n",
      "                      '10': 0.32021721143623744,\n",
      "                      '11': 0.08838834764831845},\n",
      "    'eigenvalue': (-2.0712890625+0j),\n",
      "    'optimal_parameters': {   ParameterVectorElement(t[0]): 1.2990551345749868,\n",
      "                              ParameterVectorElement(t[1]): 1.5944564985506997,\n",
      "                              ParameterVectorElement(t[2]): -5.913849439022427,\n",
      "                              ParameterVectorElement(t[3]): -0.7524628082424797},\n",
      "    'optimal_point': array([ 1.29905513,  1.5944565 , -5.91384944, -0.75246281]),\n",
      "    'optimal_value': -2.0712890625,\n",
      "    'optimizer_evals': None,\n",
      "    'optimizer_time': 0.19306397438049316}\n"
     ]
    }
   ],
   "source": [
    "result = qaoa.compute_minimum_eigenvalue(op)\n",
    "print(result)"
   ]
  },
  {
   "cell_type": "markdown",
   "metadata": {},
   "source": [
    "Probemos con un problema con más qubits"
   ]
  },
  {
   "cell_type": "code",
   "execution_count": 8,
   "metadata": {},
   "outputs": [
    {
     "name": "stdout",
     "output_type": "stream",
     "text": [
      "El hamiltoniano es 1.0 * ZZIII\n",
      "+ 1.0 * ZIZII\n",
      "+ 1.0 * IZZII\n",
      "+ 1.0 * IZIZI\n",
      "+ 1.0 * IIZIZ\n",
      "+ 1.0 * IIIZZ\n"
     ]
    },
    {
     "data": {
      "image/png": "[encoded data removed]",
      "text/plain": [
       "<Figure size 1230.4x325.08 with 1 Axes>"
      ]
     },
     "execution_count": 8,
     "metadata": {},
     "output_type": "execute_result"
    }
   ],
   "source": [
    "# Corresponde al problema de D-Wave con J = {(0,1):1,(0,2):1,(1,2):1,(1,3):1,(2,4):1,(3,4):1}\n",
    "\n",
    "op = (Z^Z^I^I^I) + (Z^I^Z^I^I) + (I^Z^Z^I^I) + (I^Z^I^Z^I) + (I^I^Z^I^Z) + (I^I^I^Z^Z) # ¡Paréntesis necesarios!\n",
    "print(\"El hamiltoniano es\", op)\n",
    "qaoa = QAOA(optimizer = COBYLA(), quantum_instance=Aer.get_backend('aer_simulator'), reps = 1)  \n",
    "qaoa.construct_circuit([0,0,0,0],op)[0].draw(output=\"mpl\")"
   ]
  },
  {
   "cell_type": "code",
   "execution_count": 9,
   "metadata": {},
   "outputs": [
    {
     "name": "stdout",
     "output_type": "stream",
     "text": [
      "{   'aux_operator_eigenvalues': None,\n",
      "    'cost_function_evals': 31,\n",
      "    'eigenstate': {   '00000': 0.08267972847076846,\n",
      "                      '00001': 0.14320549046737,\n",
      "                      '00010': 0.14657549249448218,\n",
      "                      '00011': 0.14657549249448218,\n",
      "                      '00100': 0.19008632907181935,\n",
      "                      '00101': 0.1711632992203644,\n",
      "                      '00110': 0.1711632992203644,\n",
      "                      '00111': 0.08267972847076846,\n",
      "                      '01000': 0.15934435979977452,\n",
      "                      '01001': 0.17399263633843817,\n",
      "                      '01010': 0.14657549249448218,\n",
      "                      '01011': 0.08838834764831845,\n",
      "                      '01100': 0.1875,\n",
      "                      '01101': 0.31093357409581873,\n",
      "                      '01110': 0.3125,\n",
      "                      '01111': 0.10364452469860624,\n",
      "                      '10000': 0.09882117688026186,\n",
      "                      '10001': 0.31715286140913185,\n",
      "                      '10010': 0.3232525135246438,\n",
      "                      '10011': 0.1767766952966369,\n",
      "                      '10100': 0.04419417382415922,\n",
      "                      '10101': 0.19008632907181935,\n",
      "                      '10110': 0.16535945694153692,\n",
      "                      '10111': 0.1795175827043134,\n",
      "                      '11000': 0.06987712429686843,\n",
      "                      '11001': 0.14657549249448218,\n",
      "                      '11010': 0.19008632907181935,\n",
      "                      '11011': 0.184877493221863,\n",
      "                      '11100': 0.16535945694153692,\n",
      "                      '11101': 0.1288470508005519,\n",
      "                      '11110': 0.1288470508005519,\n",
      "                      '11111': 0.04419417382415922},\n",
      "    'eigenvalue': (-0.9453125+0j),\n",
      "    'optimal_parameters': {   ParameterVectorElement(t[1]): 5.208713957832226,\n",
      "                              ParameterVectorElement(t[0]): 4.156824788050702},\n",
      "    'optimal_point': array([4.15682479, 5.20871396]),\n",
      "    'optimal_value': -0.9453125,\n",
      "    'optimizer_evals': None,\n",
      "    'optimizer_time': 0.2631521224975586}\n"
     ]
    }
   ],
   "source": [
    "result = qaoa.compute_minimum_eigenvalue(op)\n",
    "print(result)"
   ]
  },
  {
   "cell_type": "markdown",
   "metadata": {},
   "source": [
    "## Trabajando con problemas cuadráticos"
   ]
  },
  {
   "cell_type": "markdown",
   "metadata": {},
   "source": [
    "Qiskit proporciona herramientas para definir problemas cuadráticos y convertirlos en hamiltonianos que podemos usar con QAOA. También define clases que podemos usar para resolver estos problemas de forma transparente. Veamos cómo funcionan. "
   ]
  },
  {
   "cell_type": "markdown",
   "metadata": {},
   "source": [
    "Definimos un problema cuadrático con restricciones"
   ]
  },
  {
   "cell_type": "code",
   "execution_count": 10,
   "metadata": {},
   "outputs": [
    {
     "name": "stdout",
     "output_type": "stream",
     "text": [
      "\\ This file has been generated by DOcplex\n",
      "\\ ENCODING=ISO-8859-1\n",
      "\\Problem name: CPLEX\n",
      "\n",
      "Minimize\n",
      " obj: - y + [ 4 x*y - 8 y*z ]/2\n",
      "Subject To\n",
      " c0: x + 2 y + 3 z <= 5\n",
      "\n",
      "Bounds\n",
      " 0 <= x <= 1\n",
      " 0 <= y <= 1\n",
      " 0 <= z <= 1\n",
      "\n",
      "Binaries\n",
      " x y z\n",
      "End\n",
      "\n"
     ]
    }
   ],
   "source": [
    "qp = QuadraticProgram()\n",
    "qp.binary_var('x')\n",
    "qp.binary_var('y')\n",
    "qp.binary_var('z')\n",
    "\n",
    "# Añadimos el objetivo\n",
    "\n",
    "qp.minimize(linear = {'y':-1}, quadratic = {('x','y'):2, ('z','y'):-4})\n",
    "\n",
    "# Añadimos una restricción lineal\n",
    "\n",
    "qp.linear_constraint(linear = {'x':1, 'y':2, 'z':3}, sense =\"<=\", rhs = 5)\n",
    "\n",
    "print(qp)"
   ]
  },
  {
   "cell_type": "markdown",
   "metadata": {},
   "source": [
    "Ahora, podemos resolver este problema de forma exacta"
   ]
  },
  {
   "cell_type": "code",
   "execution_count": 11,
   "metadata": {},
   "outputs": [
    {
     "name": "stdout",
     "output_type": "stream",
     "text": [
      "optimal function value: -5.0\n",
      "optimal value: [0. 1. 1.]\n",
      "status: SUCCESS\n"
     ]
    }
   ],
   "source": [
    "np_solver = NumPyMinimumEigensolver()\n",
    "np_optimizer = MinimumEigenOptimizer(np_solver)\n",
    "result = np_optimizer.solve(qp)\n",
    "print(result)"
   ]
  },
  {
   "cell_type": "markdown",
   "metadata": {},
   "source": [
    "Podemos resolver el problema también con QAOA"
   ]
  },
  {
   "cell_type": "code",
   "execution_count": 12,
   "metadata": {},
   "outputs": [
    {
     "name": "stdout",
     "output_type": "stream",
     "text": [
      "optimal function value: -5.0\n",
      "optimal value: [0. 1. 1.]\n",
      "status: SUCCESS\n"
     ]
    }
   ],
   "source": [
    "qaoa_optimizer = MinimumEigenOptimizer(qaoa)\n",
    "result = qaoa_optimizer.solve(qp)\n",
    "print(result)"
   ]
  },
  {
   "cell_type": "markdown",
   "metadata": {},
   "source": [
    "Para obtener más información sobre los resultados:"
   ]
  },
  {
   "cell_type": "code",
   "execution_count": 13,
   "metadata": {},
   "outputs": [
    {
     "name": "stdout",
     "output_type": "stream",
     "text": [
      "Orden de las variables: ['x', 'y', 'z']\n",
      "SolutionSample(x=array([0., 1., 1.]), fval=-5.0, probability=0.091796875, status=<OptimizationResultStatus.SUCCESS: 0>)\n",
      "SolutionSample(x=array([0., 1., 0.]), fval=-1.0, probability=0.044921875, status=<OptimizationResultStatus.SUCCESS: 0>)\n",
      "SolutionSample(x=array([1., 0., 1.]), fval=0.0, probability=0.1640625, status=<OptimizationResultStatus.SUCCESS: 0>)\n",
      "SolutionSample(x=array([0., 0., 1.]), fval=0.0, probability=0.2275390625, status=<OptimizationResultStatus.SUCCESS: 0>)\n",
      "SolutionSample(x=array([1., 0., 0.]), fval=0.0, probability=0.130859375, status=<OptimizationResultStatus.SUCCESS: 0>)\n",
      "SolutionSample(x=array([0., 0., 0.]), fval=0.0, probability=0.138671875, status=<OptimizationResultStatus.SUCCESS: 0>)\n",
      "SolutionSample(x=array([1., 1., 0.]), fval=1.0, probability=0.1591796875, status=<OptimizationResultStatus.SUCCESS: 0>)\n",
      "SolutionSample(x=array([1., 1., 1.]), fval=-3.0, probability=0.04296875, status=<OptimizationResultStatus.INFEASIBLE: 2>)\n"
     ]
    }
   ],
   "source": [
    "print('Orden de las variables:', [var.name for var in result.variables])\n",
    "for s in result.samples:\n",
    "    print(s)"
   ]
  },
  {
   "cell_type": "markdown",
   "metadata": {},
   "source": [
    "Y para obtener la misma información que con el QAOA:"
   ]
  },
  {
   "cell_type": "code",
   "execution_count": 14,
   "metadata": {},
   "outputs": [
    {
     "name": "stdout",
     "output_type": "stream",
     "text": [
      "{   'aux_operator_eigenvalues': None,\n",
      "    'cost_function_evals': 26,\n",
      "    'eigenstate': {   '000000': 0.04419417382415922,\n",
      "                      '000001': 0.12103072956898178,\n",
      "                      '000010': 0.05412658773652741,\n",
      "                      '000011': 0.08838834764831845,\n",
      "                      '000100': 0.13975424859373686,\n",
      "                      '000101': 0.24803918541230538,\n",
      "                      '000110': 0.14320549046737,\n",
      "                      '000111': 0.07654655446197431,\n",
      "                      '001000': 0.05412658773652741,\n",
      "                      '001001': 0.13975424859373686,\n",
      "                      '001010': 0.10825317547305482,\n",
      "                      '001011': 0.19008632907181935,\n",
      "                      '001100': 0.2557922741210141,\n",
      "                      '001101': 0.04419417382415922,\n",
      "                      '001110': 0.16828640022295324,\n",
      "                      '001111': 0.13975424859373686,\n",
      "                      '010000': 0.14657549249448218,\n",
      "                      '010001': 0.14320549046737,\n",
      "                      '010010': 0.07654655446197431,\n",
      "                      '010011': 0.03125,\n",
      "                      '010100': 0.15625,\n",
      "                      '010101': 0.13621559198564606,\n",
      "                      '010110': 0.09375,\n",
      "                      '010111': 0.03125,\n",
      "                      '011000': 0.06987712429686843,\n",
      "                      '011001': 0.11692679333668567,\n",
      "                      '011010': 0.09375,\n",
      "                      '011011': 0.20009763241977652,\n",
      "                      '011100': 0.17399263633843817,\n",
      "                      '011101': 0.125,\n",
      "                      '011110': 0.08267972847076846,\n",
      "                      '011111': 0.05412658773652741,\n",
      "                      '100000': 0.15625,\n",
      "                      '100001': 0.13258252147247765,\n",
      "                      '100010': 0.0625,\n",
      "                      '100100': 0.17399263633843817,\n",
      "                      '100101': 0.15934435979977452,\n",
      "                      '100110': 0.12103072956898178,\n",
      "                      '100111': 0.04419417382415922,\n",
      "                      '101000': 0.05412658773652741,\n",
      "                      '101001': 0.15934435979977452,\n",
      "                      '101010': 0.04419417382415922,\n",
      "                      '101011': 0.21650635094610965,\n",
      "                      '101100': 0.1926379375927805,\n",
      "                      '101101': 0.125,\n",
      "                      '101110': 0.08838834764831845,\n",
      "                      '101111': 0.04419417382415922,\n",
      "                      '110000': 0.27421763710600383,\n",
      "                      '110001': 0.08267972847076846,\n",
      "                      '110010': 0.07654655446197431,\n",
      "                      '110100': 0.11267347735824966,\n",
      "                      '110101': 0.07654655446197431,\n",
      "                      '110110': 0.06987712429686843,\n",
      "                      '110111': 0.07654655446197431,\n",
      "                      '111000': 0.06987712429686843,\n",
      "                      '111001': 0.11267347735824966,\n",
      "                      '111010': 0.0625,\n",
      "                      '111011': 0.16535945694153692,\n",
      "                      '111100': 0.08838834764831845,\n",
      "                      '111101': 0.13975424859373686,\n",
      "                      '111111': 0.0625},\n",
      "    'eigenvalue': (-20.361328125+0j),\n",
      "    'optimal_parameters': {   ParameterVectorElement(t[1]): -6.747754920220324,\n",
      "                              ParameterVectorElement(t[0]): 3.7396987303456517},\n",
      "    'optimal_point': array([ 3.73969873, -6.74775492]),\n",
      "    'optimal_value': -20.361328125,\n",
      "    'optimizer_evals': None,\n",
      "    'optimizer_time': 0.5473392009735107}\n"
     ]
    }
   ],
   "source": [
    "print(result.min_eigen_solver_result)"
   ]
  },
  {
   "cell_type": "markdown",
   "metadata": {},
   "source": [
    "# El proceso en más detalle"
   ]
  },
  {
   "cell_type": "markdown",
   "metadata": {},
   "source": [
    "La conversión que se hace internamente sigue varios pasos. El primero es convertir las restricciones de desiguladades en restricciones de igualdad"
   ]
  },
  {
   "cell_type": "code",
   "execution_count": 15,
   "metadata": {},
   "outputs": [
    {
     "name": "stdout",
     "output_type": "stream",
     "text": [
      "\\ This file has been generated by DOcplex\n",
      "\\ ENCODING=ISO-8859-1\n",
      "\\Problem name: CPLEX\n",
      "\n",
      "Minimize\n",
      " obj: - y + [ 4 x*y - 8 y*z ]/2\n",
      "Subject To\n",
      " c0: x + 2 y + 3 z + c0@int_slack = 5\n",
      "\n",
      "Bounds\n",
      " 0 <= x <= 1\n",
      " 0 <= y <= 1\n",
      " 0 <= z <= 1\n",
      "       c0@int_slack <= 5\n",
      "\n",
      "Binaries\n",
      " x y z\n",
      "\n",
      "Generals\n",
      " c0@int_slack\n",
      "End\n",
      "\n"
     ]
    }
   ],
   "source": [
    "ineq_to_eq = InequalityToEquality()\n",
    "qp_eq = ineq_to_eq.convert(qp)\n",
    "print(qp_eq)"
   ]
  },
  {
   "cell_type": "markdown",
   "metadata": {},
   "source": [
    "A continuación, se convierten las variables enteras en binarias."
   ]
  },
  {
   "cell_type": "code",
   "execution_count": 16,
   "metadata": {},
   "outputs": [
    {
     "name": "stdout",
     "output_type": "stream",
     "text": [
      "\\ This file has been generated by DOcplex\n",
      "\\ ENCODING=ISO-8859-1\n",
      "\\Problem name: CPLEX\n",
      "\n",
      "Minimize\n",
      " obj: - y + [ 4 x*y - 8 y*z ]/2\n",
      "Subject To\n",
      " c0: x + 2 y + 3 z + c0@int_slack@0 + 2 c0@int_slack@1 + 2 c0@int_slack@2 = 5\n",
      "\n",
      "Bounds\n",
      " 0 <= x <= 1\n",
      " 0 <= y <= 1\n",
      " 0 <= z <= 1\n",
      " 0 <= c0@int_slack@0 <= 1\n",
      " 0 <= c0@int_slack@1 <= 1\n",
      " 0 <= c0@int_slack@2 <= 1\n",
      "\n",
      "Binaries\n",
      " x y z c0@int_slack@0 c0@int_slack@1 c0@int_slack@2\n",
      "End\n",
      "\n"
     ]
    }
   ],
   "source": [
    "int_to_bin = IntegerToBinary()\n",
    "qp_bin = int_to_bin.convert(qp_eq)\n",
    "print(qp_bin)"
   ]
  },
  {
   "cell_type": "markdown",
   "metadata": {},
   "source": [
    "Ahora, se convierten las restricciones en penalizaciones en el objetivo"
   ]
  },
  {
   "cell_type": "code",
   "execution_count": 17,
   "metadata": {},
   "outputs": [
    {
     "name": "stdout",
     "output_type": "stream",
     "text": [
      "\\ This file has been generated by DOcplex\n",
      "\\ ENCODING=ISO-8859-1\n",
      "\\Problem name: CPLEX\n",
      "\n",
      "Minimize\n",
      " obj: - 80 x - 161 y - 240 z - 80 c0@int_slack@0 - 160 c0@int_slack@1\n",
      "      - 160 c0@int_slack@2 + [ 16 x^2 + 68 x*y + 96 x*z + 32 x*c0@int_slack@0\n",
      "      + 64 x*c0@int_slack@1 + 64 x*c0@int_slack@2 + 64 y^2 + 184 y*z\n",
      "      + 64 y*c0@int_slack@0 + 128 y*c0@int_slack@1 + 128 y*c0@int_slack@2\n",
      "      + 144 z^2 + 96 z*c0@int_slack@0 + 192 z*c0@int_slack@1\n",
      "      + 192 z*c0@int_slack@2 + 16 c0@int_slack@0^2\n",
      "      + 64 c0@int_slack@0*c0@int_slack@1 + 64 c0@int_slack@0*c0@int_slack@2\n",
      "      + 64 c0@int_slack@1^2 + 128 c0@int_slack@1*c0@int_slack@2\n",
      "      + 64 c0@int_slack@2^2 ]/2 + 200\n",
      "Subject To\n",
      "\n",
      "Bounds\n",
      " 0 <= x <= 1\n",
      " 0 <= y <= 1\n",
      " 0 <= z <= 1\n",
      " 0 <= c0@int_slack@0 <= 1\n",
      " 0 <= c0@int_slack@1 <= 1\n",
      " 0 <= c0@int_slack@2 <= 1\n",
      "\n",
      "Binaries\n",
      " x y z c0@int_slack@0 c0@int_slack@1 c0@int_slack@2\n",
      "End\n",
      "\n"
     ]
    }
   ],
   "source": [
    "eq_to_pen = LinearEqualityToPenalty()\n",
    "qubo = eq_to_pen.convert(qp_bin)\n",
    "print(qubo)"
   ]
  },
  {
   "cell_type": "markdown",
   "metadata": {},
   "source": [
    "Podríamos hacer lo mismo en un solo paso"
   ]
  },
  {
   "cell_type": "code",
   "execution_count": 18,
   "metadata": {},
   "outputs": [
    {
     "name": "stdout",
     "output_type": "stream",
     "text": [
      "\\ This file has been generated by DOcplex\n",
      "\\ ENCODING=ISO-8859-1\n",
      "\\Problem name: CPLEX\n",
      "\n",
      "Minimize\n",
      " obj: - 80 x - 161 y - 240 z - 80 c0@int_slack@0 - 160 c0@int_slack@1\n",
      "      - 160 c0@int_slack@2 + [ 16 x^2 + 68 x*y + 96 x*z + 32 x*c0@int_slack@0\n",
      "      + 64 x*c0@int_slack@1 + 64 x*c0@int_slack@2 + 64 y^2 + 184 y*z\n",
      "      + 64 y*c0@int_slack@0 + 128 y*c0@int_slack@1 + 128 y*c0@int_slack@2\n",
      "      + 144 z^2 + 96 z*c0@int_slack@0 + 192 z*c0@int_slack@1\n",
      "      + 192 z*c0@int_slack@2 + 16 c0@int_slack@0^2\n",
      "      + 64 c0@int_slack@0*c0@int_slack@1 + 64 c0@int_slack@0*c0@int_slack@2\n",
      "      + 64 c0@int_slack@1^2 + 128 c0@int_slack@1*c0@int_slack@2\n",
      "      + 64 c0@int_slack@2^2 ]/2 + 200\n",
      "Subject To\n",
      "\n",
      "Bounds\n",
      " 0 <= x <= 1\n",
      " 0 <= y <= 1\n",
      " 0 <= z <= 1\n",
      " 0 <= c0@int_slack@0 <= 1\n",
      " 0 <= c0@int_slack@1 <= 1\n",
      " 0 <= c0@int_slack@2 <= 1\n",
      "\n",
      "Binaries\n",
      " x y z c0@int_slack@0 c0@int_slack@1 c0@int_slack@2\n",
      "End\n",
      "\n"
     ]
    }
   ],
   "source": [
    "qp_to_qubo = QuadraticProgramToQubo()\n",
    "qubo2 = qp_to_qubo.convert(qp)\n",
    "print(qubo2)"
   ]
  },
  {
   "cell_type": "markdown",
   "metadata": {},
   "source": [
    "Finalmente, podemos recuperar el hamiltoniano correspondiente al problema"
   ]
  },
  {
   "cell_type": "code",
   "execution_count": 19,
   "metadata": {},
   "outputs": [
    {
     "name": "stdout",
     "output_type": "stream",
     "text": [
      "El hamiltoniano es -8.0 * ZIIIII\n",
      "- 8.0 * IZIIII\n",
      "+ 16.0 * ZZIIII\n",
      "- 4.0 * IIZIII\n",
      "+ 8.0 * ZIZIII\n",
      "+ 8.0 * IZZIII\n",
      "- 11.0 * IIIZII\n",
      "+ 24.0 * ZIIZII\n",
      "+ 24.0 * IZIZII\n",
      "+ 12.0 * IIZZII\n",
      "- 7.0 * IIIIZI\n",
      "+ 16.0 * ZIIIZI\n",
      "+ 16.0 * IZIIZI\n",
      "+ 8.0 * IIZIZI\n",
      "+ 23.0 * IIIZZI\n",
      "- 4.5 * IIIIIZ\n",
      "+ 8.0 * ZIIIIZ\n",
      "+ 8.0 * IZIIIZ\n",
      "+ 4.0 * IIZIIZ\n",
      "+ 12.0 * IIIZIZ\n",
      "+ 8.5 * IIIIZZ\n",
      "Y la constante es 47.0\n"
     ]
    }
   ],
   "source": [
    "op, offset = qubo.to_ising()\n",
    "print(\"El hamiltoniano es\", op)\n",
    "print(\"Y la constante es\", offset)"
   ]
  },
  {
   "cell_type": "markdown",
   "metadata": {},
   "source": [
    "Y usar QAOA directamente sobre este operador"
   ]
  },
  {
   "cell_type": "code",
   "execution_count": 20,
   "metadata": {},
   "outputs": [
    {
     "name": "stdout",
     "output_type": "stream",
     "text": [
      "{   'aux_operator_eigenvalues': None,\n",
      "    'cost_function_evals': 33,\n",
      "    'eigenstate': {   '000000': 0.06987712429686843,\n",
      "                      '000001': 0.10364452469860624,\n",
      "                      '000010': 0.04419417382415922,\n",
      "                      '000011': 0.06987712429686843,\n",
      "                      '000100': 0.04419417382415922,\n",
      "                      '000101': 0.15309310892394862,\n",
      "                      '000110': 0.16237976320958225,\n",
      "                      '000111': 0.2633171804117612,\n",
      "                      '001000': 0.07654655446197431,\n",
      "                      '001001': 0.03125,\n",
      "                      '001010': 0.09882117688026186,\n",
      "                      '001011': 0.10825317547305482,\n",
      "                      '001100': 0.07654655446197431,\n",
      "                      '001101': 0.15625,\n",
      "                      '001110': 0.13975424859373686,\n",
      "                      '001111': 0.2460627460628691,\n",
      "                      '010000': 0.03125,\n",
      "                      '010001': 0.05412658773652741,\n",
      "                      '010010': 0.0625,\n",
      "                      '010011': 0.1711632992203644,\n",
      "                      '010100': 0.1288470508005519,\n",
      "                      '010101': 0.09882117688026186,\n",
      "                      '010110': 0.18221724671391565,\n",
      "                      '010111': 0.22316963839196408,\n",
      "                      '011000': 0.08838834764831845,\n",
      "                      '011001': 0.1288470508005519,\n",
      "                      '011010': 0.09375,\n",
      "                      '011011': 0.23175620272173947,\n",
      "                      '011100': 0.13258252147247765,\n",
      "                      '011101': 0.08838834764831845,\n",
      "                      '011110': 0.13258252147247765,\n",
      "                      '011111': 0.09882117688026186,\n",
      "                      '100000': 0.04419417382415922,\n",
      "                      '100001': 0.03125,\n",
      "                      '100010': 0.05412658773652741,\n",
      "                      '100011': 0.1795175827043134,\n",
      "                      '100100': 0.09375,\n",
      "                      '100101': 0.125,\n",
      "                      '100110': 0.16828640022295324,\n",
      "                      '100111': 0.2096313728906053,\n",
      "                      '101000': 0.08267972847076846,\n",
      "                      '101001': 0.12103072956898178,\n",
      "                      '101010': 0.09882117688026186,\n",
      "                      '101011': 0.1875,\n",
      "                      '101100': 0.14986973510352247,\n",
      "                      '101101': 0.04419417382415922,\n",
      "                      '101110': 0.13621559198564606,\n",
      "                      '101111': 0.09375,\n",
      "                      '110000': 0.16535945694153692,\n",
      "                      '110001': 0.13621559198564606,\n",
      "                      '110010': 0.06987712429686843,\n",
      "                      '110011': 0.1711632992203644,\n",
      "                      '110100': 0.08267972847076846,\n",
      "                      '110101': 0.04419417382415922,\n",
      "                      '110110': 0.09375,\n",
      "                      '110111': 0.0625,\n",
      "                      '111000': 0.1875,\n",
      "                      '111001': 0.14657549249448218,\n",
      "                      '111010': 0.05412658773652741,\n",
      "                      '111011': 0.03125,\n",
      "                      '111101': 0.08838834764831845,\n",
      "                      '111110': 0.05412658773652741,\n",
      "                      '111111': 0.07654655446197431},\n",
      "    'eigenvalue': (-19.08203125+0j),\n",
      "    'optimal_parameters': {   ParameterVectorElement(t[1]): 5.966966135717045,\n",
      "                              ParameterVectorElement(t[0]): -0.7660885326567751},\n",
      "    'optimal_point': array([-0.76608853,  5.96696614]),\n",
      "    'optimal_value': -19.08203125,\n",
      "    'optimizer_evals': None,\n",
      "    'optimizer_time': 0.6796801090240479}\n"
     ]
    }
   ],
   "source": [
    "result = qaoa.compute_minimum_eigenvalue(op)\n",
    "print(result)"
   ]
  }
 ],
 "metadata": {
  "kernelspec": {
   "display_name": "Python 3",
   "language": "python",
   "name": "python3"
  },
  "language_info": {
   "codemirror_mode": {
    "name": "ipython",
    "version": 3
   },
   "file_extension": ".py",
   "mimetype": "text/x-python",
   "name": "python",
   "nbconvert_exporter": "python",
   "pygments_lexer": "ipython3",
   "version": "3.8.8"
  }
 },
 "nbformat": 4,
 "nbformat_minor": 4
}
