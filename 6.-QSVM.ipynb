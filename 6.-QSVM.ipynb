{
 "cells": [
  {
   "cell_type": "markdown",
   "metadata": {},
   "source": [
    "# QUANTUM SUPPORT VECTOR MACHINES\n",
    "\n",
    "En este notebook, usaremos circuitos cuánticos para calcular un kernel que luego utilizaremos como parte de un SVM. Usaremos la implementación de Qiskit, que ya encapsula el cálculo de la matriz del kernel en el entrenamiento del SVM."
   ]
  },
  {
   "cell_type": "code",
   "execution_count": null,
   "metadata": {},
   "outputs": [],
   "source": [
    "import matplotlib.pyplot as plt\n",
    "import numpy as np\n",
    "from qiskit import Aer\n",
    "from qiskit_machine_learning.datasets import breast_cancer, iris, digits\n",
    "from qiskit.circuit.library import ZZFeatureMap, ZFeatureMap\n",
    "from qiskit.utils import QuantumInstance\n",
    "from qiskit_machine_learning.kernels import QuantumKernel\n",
    "from qiskit_machine_learning.algorithms import QSVC"
   ]
  },
  {
   "cell_type": "markdown",
   "metadata": {},
   "source": [
    "## Un primer ejemplo"
   ]
  },
  {
   "cell_type": "markdown",
   "metadata": {},
   "source": [
    "Empezaremos con un ejemplo muy sencillo que es linealmente separable."
   ]
  },
  {
   "cell_type": "code",
   "execution_count": null,
   "metadata": {},
   "outputs": [],
   "source": [
    "np.random.seed(2021)\n",
    "n = 30\n",
    "\n",
    "# Ejemplos de entrenamiento para la clase 0\n",
    "\n",
    "mean = [0, 1]\n",
    "cov = [[0.1, 0], [0, 0.1]]\n",
    "\n",
    "A = np.random.multivariate_normal(mean, cov, n)\n",
    "x_A, y_A = A.T\n",
    "plt.plot(x_A, y_A, 'ro');\n",
    "\n",
    "# Ejemplos de entrenamiento para la clase 1\n",
    "\n",
    "mean = [1, 0]\n",
    "cov = [[0.1, 0], [0, 0.1]]\n",
    "\n",
    "B = (np.random.multivariate_normal(mean, cov, n))\n",
    "x_B, y_B = B.T\n",
    "plt.plot(x_B, y_B, 'bo')\n",
    "\n",
    "training_input = np.append(A,B,axis =0)\n",
    "training_labels = np.array([0]*n+[1]*n) # Etiqueta 0 para los primeros n ejemplos y 1 para los siguientes "
   ]
  },
  {
   "cell_type": "markdown",
   "metadata": {},
   "source": [
    "Como primer circuito para el kernel, usaremos *ZFeatureMap*"
   ]
  },
  {
   "cell_type": "code",
   "execution_count": null,
   "metadata": {},
   "outputs": [],
   "source": [
    "feature_map = ZFeatureMap(feature_dimension=2, reps=1)\n",
    "feature_map.decompose().draw(output=\"mpl\")"
   ]
  },
  {
   "cell_type": "markdown",
   "metadata": {},
   "source": [
    "Una vez generados los datos y definido el feature map, podemos entrenar el SVM"
   ]
  },
  {
   "cell_type": "code",
   "execution_count": null,
   "metadata": {},
   "outputs": [],
   "source": [
    "backend = Aer.get_backend('statevector_simulator')\n",
    "quantum_instance = QuantumInstance(backend)\n",
    "quantum_kernel = QuantumKernel(feature_map=feature_map, quantum_instance=quantum_instance)\n",
    "qsvm = QSVC(quantum_kernel = quantum_kernel)\n",
    "qsvm.fit(training_input,training_labels)\n",
    "print(\"QSVC entrenado\")"
   ]
  },
  {
   "cell_type": "markdown",
   "metadata": {},
   "source": [
    "Para comprobar su rendimiento, vamos a generar ejemplos de test siguiendo la misma distribución."
   ]
  },
  {
   "cell_type": "code",
   "execution_count": null,
   "metadata": {
    "scrolled": true
   },
   "outputs": [],
   "source": [
    "n = 10\n",
    "\n",
    "# Ejemplos de test para la clase 0\n",
    "\n",
    "mean = [0, 1]\n",
    "cov = [[0.1, 0], [0, 0.1]]\n",
    "\n",
    "C = (np.random.multivariate_normal(mean, cov, n))\n",
    "x_C, y_C = C.T\n",
    "\n",
    "# Ejemplos de test para la clase 1\n",
    "\n",
    "mean = [1, 0]\n",
    "cov = [[0.05, 0], [0, 0.05]]\n",
    "\n",
    "D = (np.random.multivariate_normal(mean, cov, n))\n",
    "x_D, y_D = D.T\n"
   ]
  },
  {
   "cell_type": "markdown",
   "metadata": {},
   "source": [
    "Podemos usar el QSVC entrenado para predecir las etiquetas y, también, calcular la accuracy directamente. "
   ]
  },
  {
   "cell_type": "code",
   "execution_count": null,
   "metadata": {},
   "outputs": [],
   "source": [
    "print(\"Predicción para los ejemplos de la clase 0\",qsvm.predict(C))\n",
    "print(\"Predicción para los ejemplos de la clase 1\",qsvm.predict(D))\n",
    "\n",
    "test_input = np.append(C,D,axis =0)\n",
    "test_labels = np.array([0]*n+[1]*n)\n",
    "\n",
    "print(\"Accuracy\",qsvm.score(test_input,test_labels))"
   ]
  },
  {
   "cell_type": "markdown",
   "metadata": {},
   "source": [
    "# Ejemplos con otros datasets "
   ]
  },
  {
   "cell_type": "markdown",
   "metadata": {},
   "source": [
    "Qiskit incorpora algunos datasets sencillos que podemos usar para hacer pruebas"
   ]
  },
  {
   "cell_type": "code",
   "execution_count": null,
   "metadata": {},
   "outputs": [],
   "source": [
    "training_input, training_labels, test_input, test_labels = breast_cancer(\n",
    "    training_size=100,\n",
    "    test_size=20,\n",
    "    n=2,\n",
    "    plot_data=True,\n",
    "    one_hot = False,\n",
    ")"
   ]
  },
  {
   "cell_type": "markdown",
   "metadata": {},
   "source": [
    "Usamos primero un feature map sencillo"
   ]
  },
  {
   "cell_type": "code",
   "execution_count": null,
   "metadata": {},
   "outputs": [],
   "source": [
    "feature_map = ZFeatureMap(feature_dimension=2, reps=1)\n",
    "quantum_kernel = QuantumKernel(feature_map=feature_map, quantum_instance=quantum_instance)\n",
    "qsvm = QSVC(quantum_kernel = quantum_kernel)\n",
    "qsvm.fit(training_input,training_labels)\n",
    "print(\"Accuracy\", qsvm.score(test_input,test_labels))"
   ]
  },
  {
   "cell_type": "markdown",
   "metadata": {},
   "source": [
    "Ahora, un feature map más complejo"
   ]
  },
  {
   "cell_type": "code",
   "execution_count": null,
   "metadata": {},
   "outputs": [],
   "source": [
    "feature_map = ZZFeatureMap(feature_dimension=2, reps=2, entanglement='linear')\n",
    "feature_map.decompose().draw(output=\"mpl\")"
   ]
  },
  {
   "cell_type": "code",
   "execution_count": null,
   "metadata": {},
   "outputs": [],
   "source": [
    "quantum_kernel = QuantumKernel(feature_map=feature_map, quantum_instance=quantum_instance)\n",
    "qsvm = QSVC(quantum_kernel = quantum_kernel)\n",
    "qsvm.fit(training_input,training_labels)\n",
    "print(\"Accuracy\", qsvm.score(test_input,test_labels))"
   ]
  },
  {
   "cell_type": "markdown",
   "metadata": {},
   "source": [
    "También podemos hacer clasificación multiclase. QSCV extiende a la clase SVC de scikit-learn, así que gestiona automáticamente la clasificación multiclase (con el método one-vs-one)."
   ]
  },
  {
   "cell_type": "code",
   "execution_count": null,
   "metadata": {},
   "outputs": [],
   "source": [
    "training_input, training_labels, test_input, test_labels = iris(\n",
    "    training_size=100,\n",
    "    test_size=20,\n",
    "    n=2,\n",
    "    plot_data=True,\n",
    "    one_hot = False,\n",
    ")"
   ]
  },
  {
   "cell_type": "code",
   "execution_count": null,
   "metadata": {},
   "outputs": [],
   "source": [
    "feature_map = ZZFeatureMap(feature_dimension=2, reps=1, entanglement='linear')\n",
    "quantum_kernel = QuantumKernel(feature_map=feature_map, quantum_instance=quantum_instance)\n",
    "qsvm = QSVC(quantum_kernel = quantum_kernel)\n",
    "qsvm.fit(training_input,training_labels)\n",
    "print(\"Accuracy\",qsvm.score(test_input,test_labels))"
   ]
  }
 ],
 "metadata": {
  "kernelspec": {
   "display_name": "Python 3",
   "language": "python",
   "name": "python3"
  },
  "language_info": {
   "codemirror_mode": {
    "name": "ipython",
    "version": 3
   },
   "file_extension": ".py",
   "mimetype": "text/x-python",
   "name": "python",
   "nbconvert_exporter": "python",
   "pygments_lexer": "ipython3",
   "version": "3.8.8"
  },
  "widgets": {
   "application/vnd.jupyter.widget-state+json": {
    "state": {},
    "version_major": 2,
    "version_minor": 0
   }
  }
 },
 "nbformat": 4,
 "nbformat_minor": 4
}
