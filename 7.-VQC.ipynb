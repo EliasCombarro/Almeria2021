{
 "cells": [
  {
   "cell_type": "markdown",
   "metadata": {},
   "source": [
    "# VARIATIONAL QUANTUM CLASSIFIER\n"
   ]
  },
  {
   "cell_type": "markdown",
   "metadata": {},
   "source": [
    "En este notebook, vamos a mostrar cómo se construye y entrena un clasificador cuántico basado en circuitos variacionales. "
   ]
  },
  {
   "cell_type": "code",
   "execution_count": null,
   "metadata": {},
   "outputs": [],
   "source": [
    "import matplotlib.pyplot as plt\n",
    "import numpy as np\n",
    "from qiskit import Aer\n",
    "from qiskit_machine_learning.datasets import breast_cancer\n",
    "from qiskit.circuit.library import ZZFeatureMap\n",
    "from qiskit.circuit.library.n_local.two_local import TwoLocal\n",
    "from qiskit.utils import QuantumInstance\n",
    "from qiskit_machine_learning.algorithms import VQC\n",
    "from qiskit.algorithms.optimizers import COBYLA"
   ]
  },
  {
   "cell_type": "markdown",
   "metadata": {},
   "source": [
    "Elegimos el feature map y la forma variacional. "
   ]
  },
  {
   "cell_type": "code",
   "execution_count": null,
   "metadata": {},
   "outputs": [],
   "source": [
    "feature_map = ZZFeatureMap(feature_dimension=2, reps=1, entanglement='linear')\n",
    "feature_map.decompose().draw(output=\"mpl\")"
   ]
  },
  {
   "cell_type": "code",
   "execution_count": null,
   "metadata": {},
   "outputs": [],
   "source": [
    "var_form = TwoLocal(num_qubits=2, rotation_blocks = 'ry', entanglement_blocks = 'cx', entanglement = 'linear', reps = 1)\n",
    "var_form.decompose().draw(output=\"mpl\")"
   ]
  },
  {
   "cell_type": "markdown",
   "metadata": {},
   "source": [
    "Construímos un conjunto de entrenamiento"
   ]
  },
  {
   "cell_type": "code",
   "execution_count": null,
   "metadata": {},
   "outputs": [],
   "source": [
    "training_input, training_labels, test_input, test_labels = breast_cancer(\n",
    "    training_size=100,\n",
    "    test_size=20,\n",
    "    n=2,\n",
    "    plot_data=True,\n",
    "    one_hot = True,\n",
    ")"
   ]
  },
  {
   "cell_type": "markdown",
   "metadata": {},
   "source": [
    "Ahora, procedemos a construir el VQC, a entrenarlo y a medir su rendimiento"
   ]
  },
  {
   "cell_type": "code",
   "execution_count": null,
   "metadata": {},
   "outputs": [],
   "source": [
    "backend = Aer.get_backend('statevector_simulator')\n",
    "quantum_instance = QuantumInstance(backend)\n",
    "optimizer = COBYLA()\n",
    "vqc = VQC(optimizer = optimizer, feature_map = feature_map, ansatz = var_form, \n",
    "          quantum_instance = quantum_instance) \n",
    "          \n",
    "vqc.fit(training_input, training_labels)\n",
    "print(\"Accuracy\", vqc.score(test_input,test_labels))"
   ]
  },
  {
   "cell_type": "markdown",
   "metadata": {},
   "source": [
    "Elegimos ahora circuitos más complejos"
   ]
  },
  {
   "cell_type": "code",
   "execution_count": null,
   "metadata": {},
   "outputs": [],
   "source": [
    "feature_map = ZZFeatureMap(feature_dimension=2, reps=2, entanglement='linear')\n",
    "feature_map.decompose().draw(output=\"mpl\")"
   ]
  },
  {
   "cell_type": "code",
   "execution_count": null,
   "metadata": {},
   "outputs": [],
   "source": [
    "var_form = TwoLocal(num_qubits=2, rotation_blocks = 'ry', entanglement_blocks = 'cx', entanglement = 'linear', reps = 2)\n",
    "var_form.decompose().draw(output=\"mpl\")"
   ]
  },
  {
   "cell_type": "markdown",
   "metadata": {},
   "source": [
    "Y entrenamos un nuevo VQC"
   ]
  },
  {
   "cell_type": "code",
   "execution_count": null,
   "metadata": {},
   "outputs": [],
   "source": [
    "vqc = VQC(optimizer = optimizer, feature_map = feature_map, ansatz = var_form, \n",
    "          quantum_instance = quantum_instance) \n",
    "          \n",
    "vqc.fit(training_input, training_labels)\n",
    "print(\"Accuracy\", vqc.score(test_input,test_labels))"
   ]
  }
 ],
 "metadata": {
  "kernelspec": {
   "display_name": "Python 3",
   "language": "python",
   "name": "python3"
  },
  "language_info": {
   "codemirror_mode": {
    "name": "ipython",
    "version": 3
   },
   "file_extension": ".py",
   "mimetype": "text/x-python",
   "name": "python",
   "nbconvert_exporter": "python",
   "pygments_lexer": "ipython3",
   "version": "3.8.8"
  }
 },
 "nbformat": 4,
 "nbformat_minor": 4
}
