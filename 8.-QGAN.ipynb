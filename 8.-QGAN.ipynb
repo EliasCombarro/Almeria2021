{
 "cells": [
  {
   "cell_type": "markdown",
   "metadata": {},
   "source": [
    "## QUANTUM GENERATIVE ADVERSARIAL NETWORKS\n",
    "\n",
    "En este notebook, vamos a usar una Quantum Generative Adversarial Network para preparar un estado cuántico que aproxima una distribución de probabilidad dada"
   ]
  },
  {
   "cell_type": "code",
   "execution_count": null,
   "metadata": {},
   "outputs": [],
   "source": [
    "%matplotlib inline\n",
    "import numpy as np\n",
    "import matplotlib.pyplot as plt\n",
    "from qiskit import Aer\n",
    "from qiskit.utils import QuantumInstance\n",
    "from qiskit_machine_learning.algorithms import NumPyDiscriminator, QGAN"
   ]
  },
  {
   "cell_type": "markdown",
   "metadata": {},
   "source": [
    "En primer lugar, creamos los dartos de entrenamiento con una distribución de probabilidad sencilla"
   ]
  },
  {
   "cell_type": "code",
   "execution_count": null,
   "metadata": {},
   "outputs": [],
   "source": [
    "np.random.seed(2021)\n",
    "N = 1000\n",
    "\n",
    "real_data = np.random.binomial(3,0.5,N)\n",
    "plt.hist(real_data, bins = 4);"
   ]
  },
  {
   "cell_type": "markdown",
   "metadata": {},
   "source": [
    "Ahora, definimos los parámetros para nuestra QGAN y la entrenamos con los datos reales. A continuación, usamos el generador que hemos entrenado para obtener algunas muestras y las representamos en un histograma."
   ]
  },
  {
   "cell_type": "code",
   "execution_count": null,
   "metadata": {},
   "outputs": [],
   "source": [
    "n = 2\n",
    "num_qubits = [n]\n",
    "num_epochs = 100\n",
    "batch_size = 100\n",
    "bounds = [0,3]\n",
    "qgan = QGAN(data = real_data, \n",
    "            num_qubits = num_qubits, \n",
    "            batch_size = batch_size, \n",
    "            num_epochs = num_epochs,\n",
    "            bounds = bounds,\n",
    "            seed = 2021)\n",
    "quantum_instance = QuantumInstance(backend=Aer.get_backend('statevector_simulator'))\n",
    "result = qgan.run(quantum_instance)\n",
    "samples_g, prob_g = qgan.generator.get_output(qgan.quantum_instance, shots=10000)\n",
    "plt.hist(range(4), weights = prob_g, bins = 4);"
   ]
  },
  {
   "cell_type": "markdown",
   "metadata": {},
   "source": [
    "Mostramos la evolución de la función de pérdida del generador y del discriminador"
   ]
  },
  {
   "cell_type": "code",
   "execution_count": null,
   "metadata": {},
   "outputs": [],
   "source": [
    "plt.title(\"Loss function evolution\")\n",
    "plt.plot(range(num_epochs), qgan.g_loss, label='Generator')\n",
    "plt.plot(range(num_epochs), qgan.d_loss, label='Discriminator')\n",
    "plt.legend()\n",
    "plt.show()"
   ]
  },
  {
   "cell_type": "markdown",
   "metadata": {},
   "source": [
    "Y, también, la evolución de la entropía relativa durante el entrenamiento."
   ]
  },
  {
   "cell_type": "code",
   "execution_count": null,
   "metadata": {},
   "outputs": [],
   "source": [
    "plt.title('Relative entropy evolution')\n",
    "plt.plot(qgan.rel_entr)\n",
    "plt.show()"
   ]
  },
  {
   "cell_type": "code",
   "execution_count": null,
   "metadata": {},
   "outputs": [],
   "source": []
  }
 ],
 "metadata": {
  "kernelspec": {
   "display_name": "Python 3",
   "language": "python",
   "name": "python3"
  },
  "language_info": {
   "codemirror_mode": {
    "name": "ipython",
    "version": 3
   },
   "file_extension": ".py",
   "mimetype": "text/x-python",
   "name": "python",
   "nbconvert_exporter": "python",
   "pygments_lexer": "ipython3",
   "version": "3.8.8"
  }
 },
 "nbformat": 4,
 "nbformat_minor": 4
}
